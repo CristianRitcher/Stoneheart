{
  "nbformat": 4,
  "nbformat_minor": 0,
  "metadata": {
    "colab": {
      "provenance": [],
      "authorship_tag": "ABX9TyMMWhcCcTA3lEZfJShP2Fe9",
      "include_colab_link": true
    },
    "kernelspec": {
      "name": "python3",
      "display_name": "Python 3"
    },
    "language_info": {
      "name": "python"
    }
  },
  "cells": [
    {
      "cell_type": "markdown",
      "metadata": {
        "id": "view-in-github",
        "colab_type": "text"
      },
      "source": [
        "<a href=\"https://colab.research.google.com/github/CristianRitcher/Stoneheart/blob/main/image_class.ipynb\" target=\"_parent\"><img src=\"https://colab.research.google.com/assets/colab-badge.svg\" alt=\"Open In Colab\"/></a>"
      ]
    },
    {
      "cell_type": "code",
      "execution_count": null,
      "metadata": {
        "colab": {
          "base_uri": "https://localhost:8080/"
        },
        "id": "POLtu85k4pR6",
        "outputId": "6d77eafc-2e18-4ee3-cace-f5251cd52b63"
      },
      "outputs": [
        {
          "output_type": "stream",
          "name": "stdout",
          "text": [
            "2.17.0\n"
          ]
        }
      ],
      "source": [
        "import tensorflow as tf\n",
        "import os\n",
        "print(tf.__version__)"
      ]
    },
    {
      "cell_type": "code",
      "source": [
        "import os"
      ],
      "metadata": {
        "id": "GQzexZcwnfW6"
      },
      "execution_count": null,
      "outputs": []
    },
    {
      "cell_type": "code",
      "source": [
        "gpus = tf.config.experimental.list_physical_devices('GPU')\n",
        "for gpu in gpus:\n",
        "  tf.config.experimental.set_memory_growth(gpu, True)"
      ],
      "metadata": {
        "id": "OhJIfH_08SJZ"
      },
      "execution_count": null,
      "outputs": []
    },
    {
      "cell_type": "code",
      "source": [
        "import cv2\n",
        "import imghdr\n",
        "from matplotlib import pyplot as plt"
      ],
      "metadata": {
        "id": "nnJr3dKV5iY0"
      },
      "execution_count": null,
      "outputs": []
    },
    {
      "cell_type": "code",
      "source": [
        "data_dir = 'data_0'\n",
        "img_ext = ['jpeg', 'jpg', 'png', 'bmp']"
      ],
      "metadata": {
        "id": "CAv-HC1RhsXz"
      },
      "execution_count": null,
      "outputs": []
    },
    {
      "cell_type": "code",
      "source": [
        "for img_class in os.listdir(data_dir):\n",
        "  print(img_class)"
      ],
      "metadata": {
        "colab": {
          "base_uri": "https://localhost:8080/"
        },
        "id": "5fHJXg3lnS2J",
        "outputId": "a1a67aaf-9f87-4903-9430-3b5b9c01ca93"
      },
      "execution_count": null,
      "outputs": [
        {
          "output_type": "stream",
          "name": "stdout",
          "text": [
            "sad_face\n",
            "happy_face\n",
            ".ipynb_checkpoints\n"
          ]
        }
      ]
    },
    {
      "cell_type": "code",
      "source": [
        "for img_class in os.path.join(data_dir):\n",
        "  for image in os.listdir(os.path.join(data_dir, img_class)):\n",
        "    img_path = os.path.join(data_dir, img_class, image)\n",
        "    try:\n",
        "      img = cv2.imread(img_path)\n",
        "      tip = imghdr.what(img_path)\n",
        "      if tip not in img_ext:\n",
        "        print('Imgage not in ext list {}'.format(img_path))\n",
        "        os.remove(img_path)\n",
        "    except Exception as e:\n",
        "      print( 'Issue with image {}'. format(img_path))"
      ],
      "metadata": {
        "id": "W40B3ThXko8r"
      },
      "execution_count": null,
      "outputs": []
    },
    {
      "cell_type": "markdown",
      "source": [
        "### 2. Descargar datos"
      ],
      "metadata": {
        "id": "0XjH0GNZrRRn"
      }
    },
    {
      "cell_type": "code",
      "source": [
        "#tf.data.Dataset.list_files\n",
        "#tf.keras.utils.image_dataset_from_directory()"
      ],
      "metadata": {
        "id": "KGO1WFumrVxe"
      },
      "execution_count": null,
      "outputs": []
    },
    {
      "cell_type": "code",
      "source": [
        "import numpy as np\n",
        "from matplotlib import pyplot as plt"
      ],
      "metadata": {
        "id": "3nUZKCXerneg"
      },
      "execution_count": null,
      "outputs": []
    },
    {
      "cell_type": "code",
      "source": [
        "data = tf.keras.utils.image_dataset_from_directory('data_0')\n",
        "data_iterator = data.as_numpy_iterator()\n",
        "batch = data_iterator.next()"
      ],
      "metadata": {
        "id": "NLl2LJzCr2E1"
      },
      "execution_count": null,
      "outputs": []
    },
    {
      "cell_type": "code",
      "source": [
        "# permite ver el index asociado a la imagen\n",
        "# fig, ax = plt.subplots(ncols=4, figsize=(20,20))\n",
        "# for idx, img in enumerate(batch[0][:4]):\n",
        "  # ax[idx]. imshow(img. astype(int))\n",
        "  # ax[idx].title.set_text(batch[1][idx])"
      ],
      "metadata": {
        "id": "7hNoqsDUuNBD"
      },
      "execution_count": null,
      "outputs": []
    },
    {
      "cell_type": "markdown",
      "source": [
        "## 3. Preprocesamiento"
      ],
      "metadata": {
        "id": "VFIA7PikwNqP"
      }
    },
    {
      "cell_type": "markdown",
      "source": [
        "Reescalado\n"
      ],
      "metadata": {
        "id": "g9JeGRuXwqp3"
      }
    },
    {
      "cell_type": "code",
      "source": [
        "data = data.map(lambda x, y: (x/255, y))\n",
        "scaled_iterator = data.as_numpy_iterator()\n",
        "batch = scaled_iterator.next()"
      ],
      "metadata": {
        "id": "ft0fb70Rwse5"
      },
      "execution_count": null,
      "outputs": []
    },
    {
      "cell_type": "markdown",
      "source": [
        "Split data"
      ],
      "metadata": {
        "id": "DQQulDe5zhxb"
      }
    },
    {
      "cell_type": "code",
      "source": [
        "# tamaños de muestra, checar longitud de batches so len(data) = train_size + val_size + test_size\n",
        "train_size = int(len(data) * .7)\n",
        "val_size = int(len(data) * .2)\n",
        "test_size = int(len(data) * .1)"
      ],
      "metadata": {
        "id": "jMehPPOUwRdm"
      },
      "execution_count": null,
      "outputs": []
    },
    {
      "cell_type": "code",
      "source": [
        "train = data.take(train_size)\n",
        "val = data.skip(train_size).take(val_size)\n",
        "test = data.skip(train_size + val_size).take(test_size)"
      ],
      "metadata": {
        "id": "156re29Q0y2K"
      },
      "execution_count": null,
      "outputs": []
    },
    {
      "cell_type": "markdown",
      "source": [
        "### 4. Modelo"
      ],
      "metadata": {
        "id": "6qresVR12CC5"
      }
    },
    {
      "cell_type": "markdown",
      "source": [
        "Construcción del modelo"
      ],
      "metadata": {
        "id": "I_1oDszw2Tzh"
      }
    },
    {
      "cell_type": "code",
      "source": [
        "from tensorflow.keras.models import Sequential\n",
        "from tensorflow.keras.layers import Conv2D, MaxPooling2D, Dense, Flatten"
      ],
      "metadata": {
        "id": "Wivr1eis2GVp"
      },
      "execution_count": null,
      "outputs": []
    },
    {
      "cell_type": "code",
      "source": [
        "model = Sequential()"
      ],
      "metadata": {
        "id": "ewmrI3pv3hsq"
      },
      "execution_count": null,
      "outputs": []
    },
    {
      "cell_type": "code",
      "source": [
        "model.add(Conv2D(16, (3,3), 1, activation='relu', input_shape=(256,256,3)))\n",
        "model.add(MaxPooling2D())\n",
        "\n",
        "model.add(Conv2D(32, (3,3), 1, activation='relu'))\n",
        "model.add(MaxPooling2D())\n",
        "\n",
        "model.add(Conv2D(16, (3,3), 1, activation='relu'))\n",
        "model.add(MaxPooling2D)\n",
        "\n",
        "model.add(Flatten())\n",
        "model.add(Dense(256, activation='relu'))\n",
        "model.add(Dense(1, activation='sigmoid'))"
      ],
      "metadata": {
        "id": "ohWaZZD03lVD"
      },
      "execution_count": null,
      "outputs": []
    },
    {
      "cell_type": "code",
      "source": [
        "model.compile('adam', loss=tf.losses.BinaryCrossentropy(), metrics=['accuracy'])\n",
        "#model.summary\n"
      ],
      "metadata": {
        "id": "xRYfj7Y_6PGi"
      },
      "execution_count": null,
      "outputs": []
    },
    {
      "cell_type": "markdown",
      "source": [
        "Entrenamiento"
      ],
      "metadata": {
        "id": "1NNkqIHO2b0N"
      }
    },
    {
      "cell_type": "code",
      "source": [
        "logdir = 'logs'"
      ],
      "metadata": {
        "id": "_WLmHl7J7vxt"
      },
      "execution_count": null,
      "outputs": []
    },
    {
      "cell_type": "code",
      "source": [
        "tensorboard_callback = tf.keras.callbacks.TensorBoard(log_dir=logdir)"
      ],
      "metadata": {
        "id": "8D10Xj3y78ho"
      },
      "execution_count": null,
      "outputs": []
    },
    {
      "cell_type": "code",
      "source": [
        "hist = model.fit(train, epchs=20, validation_data=val, callbacks=[tensorboard_callback])"
      ],
      "metadata": {
        "id": "hQjCoiCl8hwn"
      },
      "execution_count": null,
      "outputs": []
    },
    {
      "cell_type": "markdown",
      "source": [
        "Plot performance\n"
      ],
      "metadata": {
        "id": "8DJtJMQV2dfF"
      }
    },
    {
      "cell_type": "code",
      "source": [
        "#checamos pérdida, forma validada:  logarítmica negativa\n",
        "fig = plt.figure()\n",
        "plt.plot(hist.history['loss'], color='teal', lebel='loss')\n",
        "plt.plot(hist.history['val_loss'], color='orange', lebel='val_loss')\n",
        "fig.subtitle('Loss', fontsize=20)\n",
        "plt.legend(loc='upper left')\n",
        "plt.show()"
      ],
      "metadata": {
        "id": "AbnYfSLv9b4_"
      },
      "execution_count": null,
      "outputs": []
    },
    {
      "cell_type": "code",
      "source": [
        "#checamos accuracy forma validada:  radical\n",
        "plt.plot(hist.history['accuracy'], color='teal', lebel='accuracy')\n",
        "plt.plot(hist.history['val_accuracy'], color='orange', lebel='val_accuracy')\n",
        "fig.subtitle('accuracy', fontsize=20)\n",
        "plt.legend(loc='upper left')\n",
        "plt.show()"
      ],
      "metadata": {
        "id": "iJuE4OKU_ES7"
      },
      "execution_count": null,
      "outputs": []
    },
    {
      "cell_type": "markdown",
      "source": [
        "### 5. Evaluación del performance"
      ],
      "metadata": {
        "id": "4Z25QkYx2jLL"
      }
    },
    {
      "cell_type": "markdown",
      "source": [
        "evaluación"
      ],
      "metadata": {
        "id": "uu1qFiD6Alal"
      }
    },
    {
      "cell_type": "code",
      "source": [
        "from tensorflow.keras.metrics import Precision, Recall, BinaryAccuracy"
      ],
      "metadata": {
        "id": "u_qaWcn8Agih"
      },
      "execution_count": null,
      "outputs": []
    },
    {
      "cell_type": "markdown",
      "source": [],
      "metadata": {
        "id": "PDxLfvwcG76c"
      }
    },
    {
      "cell_type": "code",
      "source": [
        "pre = Precision()\n",
        "re = Recall()\n",
        "acc = BinaryAccuracy"
      ],
      "metadata": {
        "id": "bi-VmUJ9BHab"
      },
      "execution_count": null,
      "outputs": []
    },
    {
      "cell_type": "code",
      "source": [
        "for batch in test.as_numpy_iterator():\n",
        "  X, y = batch\n",
        "  yhat = model.predict(X)\n",
        "  pre.update_state(y, yhat)\n",
        "  re.update_state(y, yhat)\n",
        "  acc.update_state(y, yhat)"
      ],
      "metadata": {
        "id": "lC3RdyxoCWn2"
      },
      "execution_count": null,
      "outputs": []
    },
    {
      "cell_type": "code",
      "source": [
        "print(f'presición: {pre.result().numpy()}, Recall {re.result().numpy()}, Accuracy: {acc.result().numpy()}')"
      ],
      "metadata": {
        "id": "0sHEvLUsCucI"
      },
      "execution_count": null,
      "outputs": []
    },
    {
      "cell_type": "markdown",
      "source": [
        "test\n"
      ],
      "metadata": {
        "id": "LXFVelFHDhx6"
      }
    },
    {
      "cell_type": "code",
      "source": [
        "#Carga y muestra la imagen\n",
        "img = cv2.imread('nombre_imagen.jpg')\n",
        "plt.imshow(cv2.cvtColor(img, cv2.COLOR_BGR2RGB))\n",
        "plt.show"
      ],
      "metadata": {
        "id": "dSUcvCkdDjgL"
      },
      "execution_count": null,
      "outputs": []
    },
    {
      "cell_type": "code",
      "source": [
        "# la pone en el tamaño adecuado\n",
        "resize = tf.image.resize(img, (256,256))\n",
        "plt.imshow(resize.numpy().astype(int))\n",
        "plt.show()"
      ],
      "metadata": {
        "id": "wZbHSeIFEgRd"
      },
      "execution_count": null,
      "outputs": []
    },
    {
      "cell_type": "code",
      "source": [
        "yhat = model.predict(np.expand_dims(resize/255, 0))\n",
        "#predice el valor de 0 a 1 (siguiendo la sigmoidea)"
      ],
      "metadata": {
        "id": "A0UjnWXKFnP-"
      },
      "execution_count": null,
      "outputs": []
    },
    {
      "cell_type": "code",
      "source": [],
      "metadata": {
        "id": "_T85MiObGPD_"
      },
      "execution_count": null,
      "outputs": []
    },
    {
      "cell_type": "markdown",
      "source": [
        "### 6. Guardar el modelo"
      ],
      "metadata": {
        "id": "6T3ErXlfG9Nw"
      }
    },
    {
      "cell_type": "code",
      "source": [
        "from tensorflow.keras.models import load_model"
      ],
      "metadata": {
        "id": "dU0JfpeOHBdt"
      },
      "execution_count": null,
      "outputs": []
    },
    {
      "cell_type": "code",
      "source": [
        "#Guarda un modelo\n",
        "model.save(os.path.join('models', 'nombremodelo.h5'))"
      ],
      "metadata": {
        "id": "2-C9zsCTHFvL"
      },
      "execution_count": null,
      "outputs": []
    },
    {
      "cell_type": "code",
      "source": [
        "# carga un modelo\n",
        "new_model = load_model(os.path.join('models', 'nombremodel.h5'))"
      ],
      "metadata": {
        "id": "awO8GnO-HUTe"
      },
      "execution_count": null,
      "outputs": []
    },
    {
      "cell_type": "code",
      "source": [
        "# usa el modelo\n",
        "new_model.predict(np.expand_dims(resize/255, 0))"
      ],
      "metadata": {
        "id": "WThPh78kHdT1"
      },
      "execution_count": null,
      "outputs": []
    }
  ]
}